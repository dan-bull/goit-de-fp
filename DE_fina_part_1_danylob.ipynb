{
  "cells": [
    {
      "cell_type": "code",
      "execution_count": 1,
      "metadata": {
        "id": "1yiPK9aPidEX"
      },
      "outputs": [],
      "source": [
        "from pyspark.sql import SparkSession\n",
        "from pyspark.sql.functions import col, avg, current_timestamp, from_json, schema_of_json\n",
        "from pyspark.sql.types import StringType\n",
        "from kafka.admin import KafkaAdminClient, NewTopic\n",
        "from kafka import KafkaProducer, KafkaConsumer\n",
        "import json\n",
        "import uuid"
      ]
    },
    {
      "cell_type": "code",
      "execution_count": 2,
      "metadata": {
        "id": "Dh1PR-Lbie-n"
      },
      "outputs": [],
      "source": [
        "# Налаштування конфігурації SQL бази даних\n",
        "jdbc_url = \"jdbc:mysql://217.61.57.46:3306/olympic_dataset\"\n",
        "jdbc_table_bio = \"athlete_bio\"\n",
        "jdbc_table_results = \"athlete_event_results\"\n",
        "jdbc_user = \"neo_data_admin\"\n",
        "jdbc_password = \"Proyahaxuqithab9oplp\"\n",
        "jar_file_path = \"/content/mysql-connector-j-8.0.32.jar\"\n",
        "\n",
        "# Ініціалізація SparkSession\n",
        "spark = SparkSession.builder \\\n",
        "    .appName(\"Olympic Bio Data\") \\\n",
        "    .config(\"spark.jars\", jar_file_path) \\\n",
        "    .config(\"spark.jars.packages\", \"org.apache.spark:spark-sql-kafka-0-10_2.12:3.5.5\") \\\n",
        "    .getOrCreate()"
      ]
    },
    {
      "cell_type": "code",
      "execution_count": 3,
      "metadata": {
        "colab": {
          "base_uri": "https://localhost:8080/"
        },
        "id": "Zk-PWFlWie8J",
        "outputId": "5865e531-d78f-40ae-8a81-d4dc63bd4414"
      },
      "outputs": [
        {
          "output_type": "stream",
          "name": "stdout",
          "text": [
            "+----------+-------------------+------+--------------+------+------+-----------------+-----------+--------------------+--------------------+\n",
            "|athlete_id|               name|   sex|          born|height|weight|          country|country_noc|         description|       special_notes|\n",
            "+----------+-------------------+------+--------------+------+------+-----------------+-----------+--------------------+--------------------+\n",
            "|     65649|       IvankaBonova|Female|    4April1949| 166.0|    55|         Bulgaria|        BUL|PersonalBest40053...|                 nan|\n",
            "|    112510|   NataliyaUryadova|Female|   15March1977| 184.0|    70|RussianFederation|        RUS|                 nan|ListedinOlympians...|\n",
            "|    114973|   EssaIsmailRashed|  Male|14December1986| 165.0|    55|            Qatar|        QAT|PersonalBest10000...|ListedinOlympians...|\n",
            "|     30359|          PterBoros|  Male| 12January1908|      |   nan|          Hungary|        HUN|Between1927and193...|                 nan|\n",
            "|     50557|       RudolfPiowat|  Male|   28April1900|      |   nan|   Czechoslovakia|        TCH|RudolfPiowatyjoin...|                 nan|\n",
            "|    146111|  SvetlanaKholomina|Female| 9November1997|      |   nan|              ROC|        ROC|                 nan|                 nan|\n",
            "|    133041|    VincentRiendeau|  Male|13December1996| 178.0|    68|           Canada|        CAN|                 nan|ListedinOlympians...|\n",
            "|    110425|         TanjaMorel|Female|  4October1975| 164.0|    58|      Switzerland|        SUI|                 nan|ListedinOlympians...|\n",
            "|    110705|     MaksimShabalin|  Male| 25January1982| 183.0|    76|RussianFederation|        RUS|                 nan|ListedinOlympians...|\n",
            "|     54541|            GRegter|  Male|    6March1916|      |   nan|      Netherlands|        NED|                 nan|                 nan|\n",
            "|     22721|  AristidePontenani|  Male|           nan|      |   nan|            Italy|        ITA|                 nan|                 nan|\n",
            "|     56266|       GoYeongChang|  Male|   21March1926| 167.0|    75|  RepublicofKorea|        KOR|                 nan|                 nan|\n",
            "|     82227|     MarliesRostock|Female|   20April1960|      |   nan|      EastGermany|        GDR|MarliesRostockwon...|WifedivorcedofUwe...|\n",
            "|     93334|     CraigHutchison|  Male|     26May1975| 198.0|    97|           Canada|        CAN|                 nan|ListedinOlympians...|\n",
            "|    146013|       RaquelQueirs|Female|    4March2000| 167.0|    56|         Portugal|        POR|                 nan|                 nan|\n",
            "|    109912|VyacheslavKurginyan|  Male|22December1986| 170.0|    65|RussianFederation|        RUS|                 nan|ListedinOlympians...|\n",
            "|     37019|        PhilippeLot|  Male|    13June1967| 189.0|    85|           France|        FRA|                 nan|ListedinOlympians...|\n",
            "|     22885|        RudyKugeler|  Male|  11August1928| 187.0|    86|       Luxembourg|        LUX|                 nan|                 nan|\n",
            "|     95497|  YoshihiroMiyazaki|  Male|     10May1930| 173.0|    70|            Japan|        JPN|                 nan|                 nan|\n",
            "|        76|       RoperBarrett|  Male|24November1873|      |   nan|     GreatBritain|        GBR|RoperBarrettlearn...|                 nan|\n",
            "+----------+-------------------+------+--------------+------+------+-----------------+-----------+--------------------+--------------------+\n",
            "only showing top 20 rows\n",
            "\n"
          ]
        }
      ],
      "source": [
        "# Крок 1: Читання даних фізичних показників атлетів з SQL бази даних\n",
        "athletes_bio_df = spark.read.format('jdbc').options(\n",
        "    url=jdbc_url,\n",
        "    driver='com.mysql.cj.jdbc.Driver',\n",
        "    dbtable=jdbc_table_bio,\n",
        "    user=jdbc_user,\n",
        "    password=jdbc_password\n",
        ").load()\n",
        "\n",
        "athletes_bio_df.show()"
      ]
    },
    {
      "cell_type": "code",
      "execution_count": 4,
      "metadata": {
        "colab": {
          "base_uri": "https://localhost:8080/"
        },
        "id": "B-TeaZBTie5S",
        "outputId": "69d57513-e89d-452c-f390-ecec8f8fa76b"
      },
      "outputs": [
        {
          "output_type": "stream",
          "name": "stdout",
          "text": [
            "+----------+-------------------+------+---------------+------+------+-----------------+-----------+--------------------+--------------------+\n",
            "|athlete_id|               name|   sex|           born|height|weight|          country|country_noc|         description|       special_notes|\n",
            "+----------+-------------------+------+---------------+------+------+-----------------+-----------+--------------------+--------------------+\n",
            "|     65649|       IvankaBonova|Female|     4April1949| 166.0|    55|         Bulgaria|        BUL|PersonalBest40053...|                 nan|\n",
            "|    112510|   NataliyaUryadova|Female|    15March1977| 184.0|    70|RussianFederation|        RUS|                 nan|ListedinOlympians...|\n",
            "|    114973|   EssaIsmailRashed|  Male| 14December1986| 165.0|    55|            Qatar|        QAT|PersonalBest10000...|ListedinOlympians...|\n",
            "|    133041|    VincentRiendeau|  Male| 13December1996| 178.0|    68|           Canada|        CAN|                 nan|ListedinOlympians...|\n",
            "|    110425|         TanjaMorel|Female|   4October1975| 164.0|    58|      Switzerland|        SUI|                 nan|ListedinOlympians...|\n",
            "|    110705|     MaksimShabalin|  Male|  25January1982| 183.0|    76|RussianFederation|        RUS|                 nan|ListedinOlympians...|\n",
            "|     56266|       GoYeongChang|  Male|    21March1926| 167.0|    75|  RepublicofKorea|        KOR|                 nan|                 nan|\n",
            "|     93334|     CraigHutchison|  Male|      26May1975| 198.0|    97|           Canada|        CAN|                 nan|ListedinOlympians...|\n",
            "|    146013|       RaquelQueirs|Female|     4March2000| 167.0|    56|         Portugal|        POR|                 nan|                 nan|\n",
            "|    109912|VyacheslavKurginyan|  Male| 22December1986| 170.0|    65|RussianFederation|        RUS|                 nan|ListedinOlympians...|\n",
            "|     37019|        PhilippeLot|  Male|     13June1967| 189.0|    85|           France|        FRA|                 nan|ListedinOlympians...|\n",
            "|     22885|        RudyKugeler|  Male|   11August1928| 187.0|    86|       Luxembourg|        LUX|                 nan|                 nan|\n",
            "|     95497|  YoshihiroMiyazaki|  Male|      10May1930| 173.0|    70|            Japan|        JPN|                 nan|                 nan|\n",
            "|     42069|      IsabelleHberl|Female|      11May1959| 167.0|    67|           France|        FRA|                 nan|SisterofPhilippeH...|\n",
            "|     39033|      SjoerdWartena|  Male|       1May1939| 189.0|    76|      Netherlands|        NED|                 nan|                 nan|\n",
            "|    115157|    MariyaYakovenko|Female|   6January1982| 174.0|    81|RussianFederation|        RUS|PersonalBestJT62....|                 nan|\n",
            "|       207|          VirgCsurg|Female| 10November1972| 172.0|    63|          Hungary|        HUN|VirgCsurgwasaprof...|ListedinOlympians...|\n",
            "|     99106|        RonnyYeager|  Male|   16August1952| 181.0|    70|     UnitedStates|        USA|RonnyYeagerskiedf...|ListedinOlympians...|\n",
            "|    126257|        ShaneSmeltz|  Male|29September1981| 184.0|    79|       NewZealand|        NZL|                 nan|ListedinOlympians...|\n",
            "|    102554|      HwangSeonHong|  Male|     14July1968| 183.0|    79|  RepublicofKorea|        KOR|                 nan|ListedinOlympians...|\n",
            "+----------+-------------------+------+---------------+------+------+-----------------+-----------+--------------------+--------------------+\n",
            "only showing top 20 rows\n",
            "\n"
          ]
        }
      ],
      "source": [
        "# Крок 2: Фільтрація даних, де зріст та вага порожні чи не є числами\n",
        "filtered_bio_df = athletes_bio_df.filter(\n",
        "    (col(\"height\").isNotNull()) & (col(\"weight\").isNotNull()) &\n",
        "    (col(\"height\").cast(StringType()).rlike(\"^[0-9]+(?:\\\\.[0-9]+)?$\")) &\n",
        "    (col(\"weight\").cast(StringType()).rlike(\"^[0-9]+(?:\\\\.[0-9]+)?$\"))\n",
        ")\n",
        "\n",
        "filtered_bio_df.show()"
      ]
    },
    {
      "cell_type": "code",
      "execution_count": 5,
      "metadata": {
        "colab": {
          "base_uri": "https://localhost:8080/"
        },
        "id": "8f-pSPkfie26",
        "outputId": "2d0d22e2-b6bf-49b4-fbfb-8507c6478e6a"
      },
      "outputs": [
        {
          "output_type": "stream",
          "name": "stderr",
          "text": [
            "WARNING:kafka.sasl.plain:Sending username and password in the clear\n",
            "WARNING:kafka.sasl.plain:Sending username and password in the clear\n",
            "WARNING:kafka.sasl.plain:Sending username and password in the clear\n"
          ]
        },
        {
          "output_type": "stream",
          "name": "stdout",
          "text": [
            "An error occurred: [Error 36] TopicAlreadyExistsError: Request 'CreateTopicsRequest_v3(create_topic_requests=[(topic='danylob_athlete_event_results', num_partitions=1, replication_factor=1, replica_assignment=[], configs=[])], timeout=30000, validate_only=False)' failed with response 'CreateTopicsResponse_v3(throttle_time_ms=0, topic_errors=[(topic='danylob_athlete_event_results', error_code=36, error_message=\"Topic 'danylob_athlete_event_results' already exists.\")])'.\n",
            "Список існуючих топіків: ['test-topic', 'kilaru_enriched_athlete_avg', 'yuliia_iot_sensors_data', 'ginger_athlete_event_results', 'edwardprombuildingsensors', 'AS_temperature_alerts', 'm_matviiuk_building_sensors', 'oleg_building_sensors', 'humidity_alerts_volodymyr14', 'kari_morozova_building_sensors', 'kry_temperature_alerts', 'hanna_dunska_input_topic', 'kaplan_m_temperature_alerts', 'kari_shop_topic_1', 'churylov_yevhen_0107_athlete_event_results', 'humidity_alerts_hellcat_topic', 'Vitalii_topic_1', 'iot_alerts', 'common_alerts_msolonin', 'output_SerhiiB', 'building_sensors_serafymovych', 'tania_humidity_alerts', 'kry_spark_streaming_in', 'ilya_topic_out_1', 'staskut_athlete_aggregates', 'sergii_humidity_alerts', 'temperature_alerts_romanchuk', 'building_sensors_eod_goit_de_hw_06', 'iot_sensors_data', 'temperature_alerts_eugene_churylov_1', 'yk_temperature_alerts', 'yuliia_iot_alerts', 'tet_s_enriched_athlete_avg', 'yuliia_nazymko_athlete_avg_stats', 'lesia999_humidity_alerts', 'oleksiy58_topic_1', 'humidity_alerts_msolonin', 'humidity_alerts_oleh3', 'humidity_alerts_my_unique_id', 'humidity_alerts_oholodetskyi', 'AS_building_sensors', 'test', 'avg_bio_results', 'ilya_humidity_alerts', 'YT_building_sensors', 'humidity_alerts_volodymyr8', 'sergii_g_building_sensor', 'humidity_alerts_eugene_churylov_1', 'eod_athlete_enriched', 'maxym1_temperature_alerts', 'maxym_topic_1', 'viktori_humidity_alerts', 'YT_athlete_event_results', 'jane_humidity_alerts', 'akolvakh_sensor_alerts', 'building_sensors_volodymyr15', 'Sergii_building_sensors', 'AS_topic_out', 'jane_building_sensors', 'oleksiik_humidity_alerts', 'ilya_topic_in_1', 'ginger_athlete_enriched_avg', 'temperature_alerts_oleh47', 'oleksandra-topic-2', 'zheyadatsenko_humidity_alerts', 'gregory_building_sensors', 'building_sensors_oholodetskyi', 'maxymk_building_sensors', 'building_sensors_buhai', 'serhii82_humidity_alerts', 'temperature_alerts_my_unique_id', 'vekh__spark_streaming_in', 'goit_building_sensors', 'viktori_building_sensors', 'sensor_alerts', 'oleksiy_iot_sensors_data', 'humidity_alerts_volodymyr3', 'lesia_soloviova_topic_enriched_athlete_avg', 'ilya_building_sensor_1', 'pipa_enriched_athlete_avg', 'Serafymovych_topic_1', 'veronika2_topic_1', 'temperature_alerts_volodymyr1', 'topic_BTCUSDT', 'illia_khoroshykh_topic_1', 'matajur_spark_streaming_in', 'building_sensors_volodymyr12', 'oleksiy_topic_1', 'building_sensors_volodymyr16', 'VN_avg', 'zhenya_datsenko_athlete_avg_stats', 'RomanS_building_sensors', 'andriy_b_humidity_alerts', 'kilaru_athlete_event_results', 'lesiaukr_humidity_alerts', 'athletes_msolonin', 'ivan_alerts', 'padma_humidity_alerts', 'oleksiy123_topic_1', 'edwardprom_humidity_alerts', 'building_sensors_alerts_MZ', 'dwardprom_building_sensors', 'o_kavunets_humidity_alerts', 'tet_athlete_event_results', 'VN_athlete_event_results', 'oleksii_k_athlete_agg_results', 'building_sensor_building_sensors', 'rudyi_athlete_results', 'akolvakh_building_sensors', 'temperature_alerts_green', 'vasyliev_v_temperature_alerts', 'kry_building_sensors', 'lina_building_sensors', 'tet_temperature_alerts', 'oleksiy57_topic_1', 'AS_athlete_event_results', 'kaplan_i_humidity_alerts', 'vvd_temperature_alerts', 'my_new_topic', 'artur_temperature_alerts', 'Olena_Katsyashvili_is_building_sensors', 'karine_humidity_alerts', 'kari_topic_1', 'building_sensors_your_name', 'Seraf_building_sensors', 'karine_morozova_building_sensors', 'oleksandratk_temperature_alerts', 'humidity_alerts_your_unique_username', 'iuliia_alerts', 'lesia123_building_sensors', 'viktoriia_humidity_alerts', 'tet_s_athlete_event_results', 'AS_FP_part1_out', 'humidity_alerts_Serafymoovych', 'lina_alerts', 'building_sensors_DESKTOP-L5OQROE', 'building_sensors_msolonin', 'YT_temperature_alerts', 'andrew_motko_athlete_event_results', 'jane_athlete_enriched_agg', 'sergii_g_streaming_out', 'Olena_Katsyashvili_temperature_alerts', 'aggregated_alerts_Viacheslav', 'alina_ryabova_enriched_athlete_avg', 'YT_humidity_alerts', 'andriy_b_building_sensors', 'kristina_topic_1', 'pepe_enriched_athlete_avg', 'lesia_building_sensors', 'tet_building_sensors', 'hanna_dunska_temperature_alerts', 'tetiana_sakun_enriched_athlete_avg', 'lesia999_building_sensors', 'building_sensors_volodymyr3', 'm_matviiuk_humidity_alerts', 'humidity_alerts_volodymyr17', 'IOT_iot_sensors_data', 'building_sensors_Serafymovych', 'yourname_temperature_alerts', 'edwardprom_temperature_alerts', 'oholodetskyi_streaming_out', 'zhenya_datsenko_athlete_event_results', 'kaplan_i_building_sensors', 'temperature_alerts_hellcat_topic', 'humidity_alerts_romanchuk', 'kro_athlete_event_results', 'sergiik_building_sensors_in', 'oleksandratk_humidity_alerts', 'oholodetskyi_humidity_alerts', 'lesia_iot_sensors_aggregated', 'IOT_building_sensors', 'vvd_building_sensors_alerts', 'matajur_spark_streaming_out', 'YK_building_sensors', 'karine_morozova_temperature_alerts', 'building_sensors_oleh3', 'kro_enriched_athlete_avg', 'hanna_dunska_topic_2', 'Artur_enriched_athlete_avg', 'temperature_alerts_volodymyr9', 'zhenyadatsenko_iot_alerts', 'ilya_topic_in', 'vika_humidity_alerts', 'building_sensors_Viacheslav', 'my_topic_1', 'Ilya_athlete_topic_input', 'sergii_g_topibuilding_sensors', 'maxym06_alerts', 'building_sensors_oleksiy', 'athlete_event_results_iuliia_enriched', 'eduard_topic_1', 'temperature_alerts_volodymyr4', 'Sergii_S_spark_alerts', 'tet_streaming_out', 'building_sensors_volodymyr4', 'humidity_alerts_volodymyr2', 'humidity_alerts_Bohdan', 'akolvakh_athlete_event_results', 'athlete_event_results_iuliia', 'biba_humidity_alerts', 'yk_humidity_alerts', 'YK_streaming_out', 'illia_khoroshykh_topic_2', 'avg_alerts_buhai', 'your_topic', 'vika_building_sensors', 'serafymovych_spark_streaming_out', 'VN_temperature_alerts', 'churylov_yevhen_0107_enriched_athlete_avg', 'k_temperature_alerts', 'Sergii_Simak_athlete_event_results', 'oleksandratk_athlete_event_results', 'athlete_event_results_iuliia_2', 'aggregated_sensors_your_unique_username', 'ilya_topic_out', 'oleh_aggregated_athlete_stats', 'athletes_KostyaM', 'akukla_enriched_athlete_avg', 'humidity_alerts_Serafymovych', 'vasyliev_v_humidity_alerts', 'vekh_spark_streaming_in', 'alex_humidity_alerts', 'athlete_event_results_MZh', 'vika_athlete_event_results_input', 'iuliia_all_alerts', 'gree_topic_1', 'creating_sensors', 'humidity_alerts_topic', 'karine_morozova_humidity_alerts', 'building_sensors', 'vasyliev_v_building_sensors_hw6', 'humidity_alerts_volodymyr13', 'staskut_temp_alerts', 'sergii_kulakovskyi_athlete_event_results', 'Ivan_Yanchyk_topic_1', 'viktoriia_temperature_alerts', 'jane_alert_kafka_topic_spark_streaming', 'vasyliev_vbuilding_sensors_hw6', 'building_sensors_volodymyr1', 'staskut_temperature_humidity_alerts', 'oleksiik_building_sensors_test', 'building_sensors_volodymyr', 'temperature_alerts_volodymyr10', 'edwardprombuildingsensor', 'ovova1_topic_1', 'Sergii_S_building_sensors', 'lesia999_iot_alerts', 'Alina_iot_sensors_data', 'eugene_topic_1', 'Sergii_S_humidity_alerts', 'maxymk_temperature_alerts', 'zhenyadatsenko_iot_sensors_data', 'artur_home_building_sensors_in', 'oleksiy_iot_alerts', 'alerts_condition_oleksandr_topic', 'humidity_alerts_MZ', 'viktori_temperature_alerts', 'lina_aggregated_athlete_stats', 'humidity_alerts_eugene_churylov', 'vekh__humidity_alerts', 'kaplan_m_building_sensors', 'athlete_event_results_oleksandr_topic', 'gregory_alerts', 'Eduard_topic_1', 'kari_morozova_humidity_alerts', 'oholodetskyi_building_sensors', 'building_sensors_greenmoon', 'jane_jane_alert_kafka_topic_spark_streaming', 'humidity_alerts_Viacheslav', 'akolvakh_enriched_athlete_avg', 'temperature_alerts_volodymyr8', 'temperature_alerts_vchub', 'k_building_sensors', 'building_sensors_volodymyr9', 'YT_aggregated_athlete_stats', 'temperature_alerts_rudyi', 'kar_humidity_alerts', 'maxym06_building_sensors', 'viktorii_building_sensors', 'humidity_alerts_eugene', 'padma_building_sensors', 'oleksiy7_topic_1', 'building_sensors_spogoretskyi', 'temperature_alerts_volodymyr14', 'tet_enriched_athlete_avg', 'oleksandratk_kafka_alerts', 'building_sensor_temperature_alerts', 'tetiana_sakun_athlete_event_results', 'building_sensors_yevhenii_mentor', 'oleksiy56_topic_1', 'humidity_alerts_nesvit', 'kafka_temperature_alerts', 'max_topic_1', 'temperature_alerts_your_unique_username', 'illia_khoroshykh_topic_spark_out', 'staskut_humidity_alerts', 'building_sensors_churylov_eugene_1', 'temperature_alerts_volodymyr17', 'oleksandra-topic-1', 'kafka_humidity_alerts', 'jane_athlete_event_results_fp', 'Iana_topic_1', 'oleksiik_all_alerts', 'kry_athlete_event_results', 'sensors_notifier', 'artur_home_building_sensors_out', 'danylob_athlete_event_results', 'temperature_alerts_goit_goit_de_hw_05', 'vvd_humidity_alerts', 'zhenya_datsenko_iot_alerts', 'alina_ryabova_athlete_event_results', 'biba_temperature_alerts', 'building_sensors_MZ', 'kar_building_sensors', 'sergii_kulakovskyi_enriched_athlete_avg', 'avg_alerts', 'tetiana_sakun_de_fp_group_results', 'viacheslav_topic_2', 'humidity_alerts_volodymyr10', 'sergij_topic_1', 'lesia999_temperature_alerts', 'humidity_alerts_oleh47', 'lina_temperature_alerts', 'kaplan_m_humidity_alerts', 'out_topic_name', 'sergii_g_humidity_alerts', 'viktoriia_streaming_building_sensors', 'yuliia_nazymko_athlete_event_results', 'building_sensors_your_unique_username', '__consumer_offsets', 'AS_humidity_alerts', 'serhii82_temperature_alerts', 'edwardprom1_temperature_alerts', 'KostyaM_building_sensors', 'Artur_athlete_event_results', 'zheyadatsenko_building_sensors', 'humidity_alerts_spogoretskyi', 'alerts_rudyi', 'tati_iot_alerts', 'veronika_topic_1', 'lina_athlete_event_results', 'shop_123', 'artur_home_enriched_athlete_avg', 'edwardprom_athlete_event_results', 'maxymk_humidity_alerts', 'Artur_athlete_enriched_agg', 'kry_humidity_alerts', 'greenmoon__topic_1', 'lesia999_alerts', 'illia_khoroshykh_topic_spark', 'Serafymovych_streaming_out', 'jane_athlete_event_results', 'kaplan_i_temperature_alerts', 'oleksiik_alerts_test1', 'vasyliev_v_building_sensors', 'lina_humidity_alerts', 'building_sensors_volodymyr8', 'YT_spark_streaming_out', 'lesia_topic_1', 'humidity_alerts_oleksiy', 'edwardprom__building_sensors', 'Sergii_S_temperature_alerts', 'temperature_alerts_volodymyr11', 'kari_athlete_event_results', 'temperature_alerts_volodymyr3', 'vika_temperature_alerts', 'yourname_humidity_alerts', 'edwardprom_building_sensors', 'building_sensors_goit_goit_de_hw_05', 'kariMo_alert_topic', 'gregory_athlete_event_results', 'tania_building_sensors', 'ilya_alerts_topic', 'building_sensors_volodymyr13', 'VN_humidity_alerts', 'viktorii_humidity_alerts', 'sergii_g_streaming', 'akolvakh_temperature_alerts', 'all_data_out_MZh', 'lesia_soloviova_athlete_event_results', 'temperature_alerts_msolonin', 'artur_home_building_sensors', 'viktorii_temperature_alerts', 'temperature_alerts_Serafymoovych', 'humidity_alerts_volodymyr12', 'lina_spark_streaming_out', 'humidity_alerts_oleh', 'tetiana_humidity_alerts', 'building_sensors_topic', 'hanna_dunska_humidity_alerts', 'padma_topic_1', 'humidity_alerts_volodymyr', 'padma_temperature_alerts', 'output_topic', 'oleksiy55_topic_1', 'oleksii_kafka_spark_stream_out', 'vekh__building_sensors', 'hanna_dunska_building_sensors', 'building_sensors_matajur', 'sergiik_building_alerts', 'andriy_b_topic_1', 'artur_home_athlete_event_results', 'building_sensors_hellcat_topic', 'athlete_event_results_topic', 'temperature_alerts_oleksandr_topic', 'temperature_alerts_Serafymovych', 'temperature_alerts_eugene_churylov', 'staskut_building_sensors', 'staskut_temperature_alerts', 'morozova_building_sensors', 'lesia_soloviova_enriched_athlete_avg', 'iuliia_building_sensors_alerts', 'kari_morozova_temperature_alerts', 'greenmoon_end_enriched_athlete_avg', 'iuliia_building_alerts', 'illia_khoroshykh_topic_spark_in', 'oleksiik_alerts_test', 'topic_ETHUSDT', 'lesia999_iot_sensors_data', 'ivan_sensors_data', 'andriy_b_temperature_alert', 'oleksiy_spark_streaming_in', 'gregory_enriched_agg', 'rudyi_athlete_event_results', 'temperature_alerts', 'sergii_g_enriched_athlete_avg', 'kari_building_sensors', 'Olena_Katsyashvili_humidity_alerts', 'humidity_alerts_oleksandr_topic', 'akukla_athlete_event_results', 'oleksiik_building_sensors', 'VN_building_sensors', 'building_sensors_Buhai', 'temperature_alerts_volodymyr12', 'sergii_g_athlete_summary', 'maxym1_humidity_alerts', 'oholodetskyi_temperature_alerts', 'building_sensors_churylov_eugene_2', 'building_sensors_oleksandr_topic', 'goit-de-hw-05_humidity_alerts', 'vasyliev_v_alerting', 'viktoriia_streaming_alerts', 'Serafymovych_topic_2', 'spogoretskyi_enriched_athlete_avg', 'building_sensors_Bohdan', 'gregory_building_sensors_alerts', 'jane_topic_1', 'oleksiik_alerts', 'jane_temperature_alerts', 'lina_spark_streaming_in', 'yuliia_temperature_alerts', 'temperature_alerts_Bohdan', 'temperature_alerts_oleh', 'alert_Kafka_topic_churylov_eugene_2', 'alerts_eod_goit_de_hw_06', 'gregory_temperature_alerts', 'churylov_enriched_athlete_avg', 'vchub_athlete_aggregated', 'alert_Kafka_topic_churylov_eugene', 'building_sensors_oleh', 'moving-averages-topic', 'oleksii_kafka_spark_stream_in', 'greenmoon_end_athlete_event_results', 'sergii_goncharov_athlete_event_results', 'morozova_humidity_alerts', 'Serafymovych_building_sensors', 'temperature_alerts_Viacheslav', 'oleksiy_spark_streaming_out', 'humidity_alerts_volodymyr16', 'andriy_b_temperature_alerts', 'lesia_humidity_alerts', 'yourname_building_sensors', 'VN_avg_alerts', 'staskut_athlete_event_results', 'oleksiik_sensors', 'biba_building_sensors', 'your_name_temperature_alerts', 'maxymk_building_sensors_max', 'temperature_alerts_oleh3', 'AS_topic_in', 'building_sensors_volodymyr10', 'humidity_alerts_green', 'temperature_alerts_volodymyr13', 'humidity_alerts_vchub', 'sergiik_building_sensors_out', 'building_sensors_oleh47', 'goit-de-hw-05_building_sensors', 'artur_humidity_alerts', 'oleg_alerts', 'topic_ilya_in', 'alerts_hellcat_topic', 'output_msolonin', 'sergii_g_temperature_alerts', 'yk_building_sensors', 'lesia_iot_alerts', 'humidity_alerts', 'vekh__athlete_event_results', 'your_name_humidity_alerts', 'lesia_temperature_alerts', 'iuliia_temperature_alerts', 'goit-de-hw-05_temperature_alerts', 'building_sensors_churylov_eugene', 'oleksandratk_building_sensors', 'edwardprom1_building_sensors', 'lesia123_temperature_alerts', 'karine_temperature_alerts', 'temperature_alerts_greenmoon', 'tetiana_sakun_de_fp_athlete_event_results', 'oleh_athlete_event_results', 'oleksiik_temperature_alerts', 'rsm_goit_temperature_alerts', 'humidity_alerts_goit_goit_de_hw_05', 'building_sensor_humidity_alerts', 'Sergii_Simak_athlete_summary', 'tet_humidity_alerts', 'temperature_alerts_matajur', 'humidity_alerts_greenmoon', 'oleksiy67_topic_1', 'rsm_goit_building_sensors', 'aggregated_results', 'andriy_b_humidity_alert', 'temperature_alerts_topic', 'temperature_alerts_oholodetskyi', 'ilya_topic_1', 'test_topic', 'temperature_alerts_volodymyr', 'RomanS_alert_Kafka_topic', 'vekh__spark_streaming_out', 'sergiik_building_sensors', 'binance-market-data-v0', 'kar_temperature_alerts', 'andrew_motko_enriched_athlete_avg', 'humidity_alerts_volodymyr9', 'temperature_alerts_MZ', 'veronika4_topic_1', 'ilya_temperature_alerts', 'vekh__aggregated_results', 'building_sensors_eugene_churylov_1', 'sergii_goncharov_athlete_summary', 'humidity_alerts_DESKTOP-L5OQROE', 'sergii_temperature_alerts', 'yuliia_building_sensors', 'lesia_topic_enriched_athlete_avg', 'Ilya_athlete_topic_output', 'veronika1_topic_1', 'humidity_alerts_volodymyr11', 'staskut_topic_1', 'temperature_alerts_volodymyr2', 'temperature_alerts_volodymyr16', 'palchyk1984_aggregated_athlete_results', 'athletes_SerhiiB', 'avg_alerts_romanchuk', 'lesia123_humidity_alerts', 'hanna_dunska_output_topic', 'IOT_humidity_alerts', 'temperature_alerts_volodymyr15', 'athlete_enriched_agg_eugene', 'Alina_iot_alerts', 'oholodetskyi_athlete_event_results', 'temperature_alerts_DESKTOP-L5OQROE', 'palchyk1984_enriched_athlete_avg', 'oholodetskyi_alerts', 'humidity_alerts_volodymyr4', '3000_topic_1', 'viktoriia_building_sensors', 'morozova_temperature_alerts', 'vvd_building_sensors', 'rsm_goit_humidity_alerts', 'kaplan_m_athlete_enriched_agg', 'IOT_temperature_alerts', 'staskut_topic_1_topic_1', 'kry_enriched_athlete_avg', 'o_kavunets_temperature_alerts', 'tetiana_building_sensors', 'lesia_soloviova_topic_athlete_event_results', 'sergii_building_sensors', 'kry_streaming_out', 'your_name_building_sensors', 'Yana_topic_1', 'Alex_topic_1', 'staskut_humid_alerts', 'k_humidity_alerts', 'building_sensors_volodymyr17', 'alerts_your_unique_username', 'artur_topic_1', 'tetiana_temperature_alerts', 'event_results_YM', 'building_sensors_nesvit', 'building_sensors_rudyi', 'karine_building_sensors', 'output_KostyaM', 'building_sensors_eugene_churylov', 'lesiaukr_temperature_alerts', 'final_topic_oleksandr_topic', 'yuliia_humidity_alerts', 'kafka_out_vvd', 'vchub_athlete_event_results', 'vekh__temperature_alerts', 'vika_athlete_event_results_output', 'topic_FTMUSDT', 'kari_athlete_summary', 'pipa_athlete_event_results', 'edwardprom1_humidity_alerts', 'churylov_athlete_event_results', 'athlete_event_results_ivan_y', 'building_sensors_volodymyr2', 'currency_raw_dat', 'binance-market-data', 'Olena_Katsyashvili_building_sensors', 'tania_temperature_alerts', 'lesia_iot_sensors_data', 'IOT_iot_alerts', 'building_sensors_vchub', 'lesiaukr_building_sensors', 'kaplan_m_test', 'oleksii_k_agg_athlete_event_results', 'kari_temperature_alerts', 'kariMo_building_sensors', 'humidity_alerts_rudyi', 'humidity_alerts_volodymyr1', 'm_matviiuk_topic_1', 'serhii82_building_sensors', 'VN_enriched_athlete_avg', 'lina_topic_1', 'temperature_alerts_nesvit', 'building_sensors_volodymyr11', 'athlete_event_results_fp', 'iuliia_building_sensors', 'athlete_enriched_agg', 'serhii82_topic_1', 'topic_XRPUSDT', 'building_sensors_volodymyr14', 'topic_athlete_event_results', 'KostyaM_alert_Kafka_topic', 'viktor_svertoka_athlete_event_results', 'currency_raw_data', 'o_kavunets_building_sensors', 'zhenya_datsenko_iot_sensors_data', 'alert_Kafka_topic_churylov_eugene_1', 'viktor_svertoka_enriched_athlete_avg', 'temperature_alerts_spogoretskyi', 'greenmoon_topic_1', 'maxym1_building_sensors', 'alert_Kafka_topic', 'iuliia_humidity_alerts', 'alex_temperature_alerts', 'oleksiy_spark_alerts', 'humidity_alerts_matajur', 'avg_results_YM', 'aggregated_results_ivan_y', 'hanna_dunska_topic_1', 'edwardprom_aggregated_athlete_stats', 'veronika3_topic_1', 'kari_humidity_alerts', 'gregory_humidity_alerts', 'tati_iot_sensors_data', 'goit_humidity_alerts', 'oholodetskyi_athlete_enriched_agg', 'gregory_topic_1', 'vchub_athlete_aggreted', 'building_sensors_my_unique_id', 'lesia_topic_athlete_event_results', 'akolvakh_humidity_alerts', 'goit_temperature_alerts', 'zheyadatsenko_temperature_alerts', 'pepe_athlete_event_results', 'm_matviiuk_temperature_alerts', 'athlete_event_results', 'building_sensors_romanchuk', 'sergii_g_athlete_event_results', 'alert_Kafka_topic_churyov_eugene_2', 'temperature_alerts_oleksiy', 'humidity_alerts_volodymyr15', 'oleksandratk_athlete_enriched', 'palchyk1984_athlete_event_results', 'kafka_building_sensors', 'oleksiy_topic_2', 'kaplan_m_athlete_event_results', 'marichka_topic_1']\n"
          ]
        }
      ],
      "source": [
        "# Конфігурація Kafka\n",
        "kafka_config = {\n",
        "    \"bootstrap_servers\": ['77.81.230.104:9092'],\n",
        "    \"username\": 'admin',\n",
        "    \"password\": 'VawEzo1ikLtrA8Ug8THa',\n",
        "    \"security_protocol\": 'SASL_PLAINTEXT',\n",
        "    \"sasl_mechanism\": 'PLAIN'\n",
        "}\n",
        "\n",
        "# Ініціалізація Kafka Admin Client\n",
        "admin_client = KafkaAdminClient(\n",
        "    bootstrap_servers=kafka_config['bootstrap_servers'],\n",
        "    security_protocol=kafka_config['security_protocol'],\n",
        "    sasl_mechanism=kafka_config['sasl_mechanism'],\n",
        "    sasl_plain_username=kafka_config['username'],\n",
        "    sasl_plain_password=kafka_config['password']\n",
        ")\n",
        "\n",
        "# Визначення нового топіка\n",
        "topic_name = \"danylob_athlete_event_results\"\n",
        "num_partitions = 1\n",
        "replication_factor = 1\n",
        "\n",
        "new_topic = NewTopic(name=topic_name, num_partitions=num_partitions, replication_factor=replication_factor)\n",
        "\n",
        "# Створення нового топіку\n",
        "try:\n",
        "    admin_client.create_topics(new_topics=[new_topic], validate_only=False)\n",
        "    print(f\"Topic '{topic_name}' created successfully.\")\n",
        "except Exception as e:\n",
        "    print(f\"An error occurred: {e}\")\n",
        "\n",
        "# Перевірка списку існуючих топіків\n",
        "existing_topics = admin_client.list_topics()\n",
        "print(\"Список існуючих топіків:\", existing_topics)"
      ]
    },
    {
      "cell_type": "code",
      "execution_count": 6,
      "metadata": {
        "colab": {
          "base_uri": "https://localhost:8080/"
        },
        "id": "tFX00J57n4Nh",
        "outputId": "ca905de5-0772-4817-cb19-d269a81fa190"
      },
      "outputs": [
        {
          "output_type": "stream",
          "name": "stderr",
          "text": [
            "WARNING:kafka.sasl.plain:Sending username and password in the clear\n"
          ]
        }
      ],
      "source": [
        "# Створення Kafka Producer\n",
        "producer = KafkaProducer(\n",
        "    bootstrap_servers=kafka_config['bootstrap_servers'],\n",
        "    security_protocol=kafka_config['security_protocol'],\n",
        "    sasl_mechanism=kafka_config['sasl_mechanism'],\n",
        "    sasl_plain_username=kafka_config['username'],\n",
        "    sasl_plain_password=kafka_config['password'],\n",
        "    value_serializer=lambda v: json.dumps(v).encode('utf-8'),\n",
        "    key_serializer=lambda v: json.dumps(v).encode('utf-8')\n",
        ")"
      ]
    },
    {
      "cell_type": "code",
      "source": [
        "# Крок 3: Зчитування даних з таблиці athlete_event_results і запис в Kafka топік\n",
        "\n",
        "# Зчитуємо дані з MySQL таблиці athlete_event_results\n",
        "athlete_event_results_df = spark.read.format('jdbc').options(\n",
        "    url=jdbc_url,\n",
        "    driver='com.mysql.cj.jdbc.Driver',\n",
        "    dbtable=jdbc_table_results,\n",
        "    user=jdbc_user,\n",
        "    password=jdbc_password\n",
        ").load()\n",
        "\n",
        "athlete_event_results_df.show()"
      ],
      "metadata": {
        "colab": {
          "base_uri": "https://localhost:8080/"
        },
        "id": "1vcXdTG206FG",
        "outputId": "0a392595-8ca6-4a83-e555-5dc6a2257d65"
      },
      "execution_count": 7,
      "outputs": [
        {
          "output_type": "stream",
          "name": "stdout",
          "text": [
            "+------------------+----------+-----------+---------+--------------------+---------+--------------+----------+-------+-----+-----------+\n",
            "|           edition|edition_id|country_noc|    sport|               event|result_id|       athlete|athlete_id|    pos|medal|isTeamSport|\n",
            "+------------------+----------+-----------+---------+--------------------+---------+--------------+----------+-------+-----+-----------+\n",
            "|1908SummerOlympics|         5|        ANZ|Athletics|       100metres,Men|    56265|ErnestHutcheon|     64710|    DNS|  nan|      False|\n",
            "|1908SummerOlympics|         5|        ANZ|Athletics|       400metres,Men|    56313|   HenryMurray|     64756|    DNS|  nan|      False|\n",
            "|1908SummerOlympics|         5|        ANZ|Athletics|       800metres,Men|    56338|  HarveySutton|     64808| 3h8r12|  nan|      False|\n",
            "|1908SummerOlympics|         5|        ANZ|Athletics|       800metres,Men|    56338|    GuyHaskins|    922519|    DNS|  nan|      False|\n",
            "|1908SummerOlympics|         5|        ANZ|Athletics|       800metres,Men|    56338|   JosephLynch|     64735|    DNS|  nan|      False|\n",
            "|1908SummerOlympics|         5|        ANZ|Athletics|       800metres,Men|    56338|   HenryMurray|     64756|    DNS|  nan|      False|\n",
            "|1908SummerOlympics|         5|        ANZ|Athletics|     1,500metres,Men|    56349|   JosephLynch|     64735| 5h2r12|  nan|      False|\n",
            "|1908SummerOlympics|         5|        ANZ|Athletics|     1,500metres,Men|    56349|  CharlesSwain|     79576|ACh3r12|  nan|      False|\n",
            "|1908SummerOlympics|         5|        ANZ|Athletics|     1,500metres,Men|    56349|    GuyHaskins|    922519|    DNS|  nan|      False|\n",
            "|1908SummerOlympics|         5|        ANZ|Athletics|     1,500metres,Men|    56349|   GeorgeBlake|     64619|    DNS|  nan|      False|\n",
            "|1908SummerOlympics|         5|        ANZ|Athletics|          5miles,Men|    56360|   GeorgeBlake|     64619| 3h1r12|  nan|      False|\n",
            "|1908SummerOlympics|         5|        ANZ|Athletics|          5miles,Men|    56360|   JosephLynch|     64735|ACh5r12|  nan|      False|\n",
            "|1908SummerOlympics|         5|        ANZ|Athletics|          5miles,Men|    56360|    GuyHaskins|    922519|    DNS|  nan|      False|\n",
            "|1908SummerOlympics|         5|        ANZ|Athletics|          5miles,Men|    56360|  VictorAitken|     64594|    DNS|  nan|      False|\n",
            "|1908SummerOlympics|         5|        ANZ|Athletics|        Marathon,Men|    56369|  VictorAitken|     64594|    DNF|  nan|      False|\n",
            "|1908SummerOlympics|         5|        ANZ|Athletics|        Marathon,Men|    56369|   GeorgeBlake|     64619|    DNF|  nan|      False|\n",
            "|1908SummerOlympics|         5|        ANZ|Athletics|        Marathon,Men|    56369|   JosephLynch|     64735|    DNF|  nan|      False|\n",
            "|1908SummerOlympics|         5|        ANZ|Athletics|110metresHurdles,Men|    56370|   HenryMurray|     64756| 2h1r13|  nan|      False|\n",
            "|1908SummerOlympics|         5|        ANZ|Athletics|400metresHurdles,Men|    56392|   HenryMurray|     64756| 2h3r13|  nan|      False|\n",
            "|1908SummerOlympics|         5|        ANZ|Athletics|3,200metresSteepl...|    56412|    GuyHaskins|    922519|    DNS|  nan|      False|\n",
            "+------------------+----------+-----------+---------+--------------------+---------+--------------+----------+-------+-----+-----------+\n",
            "only showing top 20 rows\n",
            "\n"
          ]
        }
      ]
    },
    {
      "cell_type": "code",
      "source": [
        "import time\n",
        "import random\n",
        "import uuid\n",
        "\n",
        "# Записуємо перші 1000 записів у Kafka топік danylob_athlete_event_results\n",
        "for i, row in enumerate(athlete_event_results_df.take(100)):\n",
        "    try:\n",
        "        producer.send(\"danylob_athlete_event_results\", key=str(row['athlete_id']), value=row.asDict())\n",
        "        producer.flush()\n",
        "        time.sleep(2)\n",
        "    except Exception as e:\n",
        "        print(f\"An error occurred while sending message {i}: {e}\")\n",
        "\n",
        "# Якщо потрібно, можна перевірити оброблені дані\n",
        "print(\"All messages sent successfully.\")"
      ],
      "metadata": {
        "colab": {
          "base_uri": "https://localhost:8080/"
        },
        "id": "ADpuX4Ea4SFl",
        "outputId": "5b64e30b-93e0-4b35-b497-882479164e20"
      },
      "execution_count": 13,
      "outputs": [
        {
          "output_type": "stream",
          "name": "stdout",
          "text": [
            "All messages sent successfully.\n"
          ]
        }
      ]
    },
    {
      "cell_type": "code",
      "source": [
        "# Читаємо дані з Kafka топіка danylob_athlete_event_results\n",
        "consumer = KafkaConsumer(\n",
        "    'danylob_athlete_event_results',\n",
        "    bootstrap_servers=kafka_config['bootstrap_servers'],\n",
        "    security_protocol=kafka_config['security_protocol'],\n",
        "    sasl_mechanism=kafka_config['sasl_mechanism'],\n",
        "    sasl_plain_username=kafka_config['username'],\n",
        "    sasl_plain_password=kafka_config['password'],\n",
        "    value_deserializer=lambda x: json.loads(x.decode('utf-8')),\n",
        "    auto_offset_reset='earliest',  # Зчитування повідомлень з початку\n",
        "    enable_auto_commit=True,        # Автоматичне підтвердження зчитаних повідомлень\n",
        "    group_id='my_consumer_group_3'  # Ідентифікатор групи споживачів\n",
        ")"
      ],
      "metadata": {
        "colab": {
          "base_uri": "https://localhost:8080/"
        },
        "id": "cneO2gV86iL9",
        "outputId": "1259feeb-18a9-424b-c3b8-3c2e2b6265a0"
      },
      "execution_count": 14,
      "outputs": [
        {
          "output_type": "stream",
          "name": "stderr",
          "text": [
            "WARNING:kafka.sasl.plain:Sending username and password in the clear\n"
          ]
        }
      ]
    },
    {
      "cell_type": "code",
      "execution_count": 15,
      "metadata": {
        "colab": {
          "base_uri": "https://localhost:8080/"
        },
        "id": "WpXWajqayU3s",
        "collapsed": true,
        "outputId": "d9175cb5-641f-4b27-ff7a-3a8114e96fa3"
      },
      "outputs": [
        {
          "output_type": "stream",
          "name": "stderr",
          "text": [
            "WARNING:kafka.consumer.subscription_state:subscription unchanged by change_subscription(['danylob_athlete_event_results'])\n",
            "WARNING:kafka.sasl.plain:Sending username and password in the clear\n",
            "WARNING:kafka.sasl.plain:Sending username and password in the clear\n",
            "WARNING:kafka.sasl.plain:Sending username and password in the clear\n"
          ]
        },
        {
          "output_type": "stream",
          "name": "stdout",
          "text": [
            "root\n",
            " |-- athlete: string (nullable = true)\n",
            " |-- athlete_id: long (nullable = true)\n",
            " |-- country_noc: string (nullable = true)\n",
            " |-- edition: string (nullable = true)\n",
            " |-- edition_id: long (nullable = true)\n",
            " |-- event: string (nullable = true)\n",
            " |-- isTeamSport: string (nullable = true)\n",
            " |-- medal: string (nullable = true)\n",
            " |-- pos: string (nullable = true)\n",
            " |-- result_id: long (nullable = true)\n",
            " |-- sport: string (nullable = true)\n",
            "\n",
            "+--------------+----------+-----------+------------------+----------+--------------------+-----------+-----+-------+---------+---------+\n",
            "|       athlete|athlete_id|country_noc|           edition|edition_id|               event|isTeamSport|medal|    pos|result_id|    sport|\n",
            "+--------------+----------+-----------+------------------+----------+--------------------+-----------+-----+-------+---------+---------+\n",
            "|ErnestHutcheon|     64710|        ANZ|1908SummerOlympics|         5|       100metres,Men|      False|  nan|    DNS|    56265|Athletics|\n",
            "|   HenryMurray|     64756|        ANZ|1908SummerOlympics|         5|       400metres,Men|      False|  nan|    DNS|    56313|Athletics|\n",
            "|  HarveySutton|     64808|        ANZ|1908SummerOlympics|         5|       800metres,Men|      False|  nan| 3h8r12|    56338|Athletics|\n",
            "|    GuyHaskins|    922519|        ANZ|1908SummerOlympics|         5|       800metres,Men|      False|  nan|    DNS|    56338|Athletics|\n",
            "|   JosephLynch|     64735|        ANZ|1908SummerOlympics|         5|       800metres,Men|      False|  nan|    DNS|    56338|Athletics|\n",
            "|   HenryMurray|     64756|        ANZ|1908SummerOlympics|         5|       800metres,Men|      False|  nan|    DNS|    56338|Athletics|\n",
            "|   JosephLynch|     64735|        ANZ|1908SummerOlympics|         5|     1,500metres,Men|      False|  nan| 5h2r12|    56349|Athletics|\n",
            "|  CharlesSwain|     79576|        ANZ|1908SummerOlympics|         5|     1,500metres,Men|      False|  nan|ACh3r12|    56349|Athletics|\n",
            "|    GuyHaskins|    922519|        ANZ|1908SummerOlympics|         5|     1,500metres,Men|      False|  nan|    DNS|    56349|Athletics|\n",
            "|   GeorgeBlake|     64619|        ANZ|1908SummerOlympics|         5|     1,500metres,Men|      False|  nan|    DNS|    56349|Athletics|\n",
            "|   GeorgeBlake|     64619|        ANZ|1908SummerOlympics|         5|          5miles,Men|      False|  nan| 3h1r12|    56360|Athletics|\n",
            "|   JosephLynch|     64735|        ANZ|1908SummerOlympics|         5|          5miles,Men|      False|  nan|ACh5r12|    56360|Athletics|\n",
            "|    GuyHaskins|    922519|        ANZ|1908SummerOlympics|         5|          5miles,Men|      False|  nan|    DNS|    56360|Athletics|\n",
            "|  VictorAitken|     64594|        ANZ|1908SummerOlympics|         5|          5miles,Men|      False|  nan|    DNS|    56360|Athletics|\n",
            "|  VictorAitken|     64594|        ANZ|1908SummerOlympics|         5|        Marathon,Men|      False|  nan|    DNF|    56369|Athletics|\n",
            "|   GeorgeBlake|     64619|        ANZ|1908SummerOlympics|         5|        Marathon,Men|      False|  nan|    DNF|    56369|Athletics|\n",
            "|   JosephLynch|     64735|        ANZ|1908SummerOlympics|         5|        Marathon,Men|      False|  nan|    DNF|    56369|Athletics|\n",
            "|   HenryMurray|     64756|        ANZ|1908SummerOlympics|         5|110metresHurdles,Men|      False|  nan| 2h1r13|    56370|Athletics|\n",
            "|   HenryMurray|     64756|        ANZ|1908SummerOlympics|         5|400metresHurdles,Men|      False|  nan| 2h3r13|    56392|Athletics|\n",
            "|    GuyHaskins|    922519|        ANZ|1908SummerOlympics|         5|3,200metresSteepl...|      False|  nan|    DNS|    56412|Athletics|\n",
            "+--------------+----------+-----------+------------------+----------+--------------------+-----------+-----+-------+---------+---------+\n",
            "only showing top 20 rows\n",
            "\n"
          ]
        }
      ],
      "source": [
        "# Конвертуємо JSON дані в DataFrame\n",
        "kafka_data = []\n",
        "max_records = 100\n",
        "\n",
        "consumer.subscribe([\"danylob_athlete_event_results\"])\n",
        "\n",
        "# Читаємо обмежену кількість повідомлень з Kafka\n",
        "for _ in range(max_records):\n",
        "    try:\n",
        "        message = next(consumer)\n",
        "        kafka_data.append(message.value)\n",
        "    except StopIteration:\n",
        "        break\n",
        "\n",
        "# Перетворюємо зібрані дані в DataFrame\n",
        "if kafka_data:\n",
        "    kafka_df = spark.createDataFrame(kafka_data)\n",
        "    kafka_df.printSchema()\n",
        "    kafka_df.show()\n",
        "else:\n",
        "    print(\"No messages received from Kafka.\")"
      ]
    },
    {
      "cell_type": "code",
      "source": [
        "# Крок 4: Об'єднання даних з результатами змагань з біологічними даними\n",
        "joined_df = kafka_df.join(filtered_bio_df, kafka_df.athlete_id == filtered_bio_df.athlete_id, \"inner\")"
      ],
      "metadata": {
        "id": "jYG0g_H61DPk"
      },
      "execution_count": 16,
      "outputs": []
    },
    {
      "cell_type": "code",
      "source": [
        "joined_df.show()"
      ],
      "metadata": {
        "colab": {
          "base_uri": "https://localhost:8080/"
        },
        "id": "ZLtt_3VB7oWT",
        "outputId": "7c818220-6320-493d-97a0-f81b0f63d4da"
      },
      "execution_count": 17,
      "outputs": [
        {
          "output_type": "stream",
          "name": "stdout",
          "text": [
            "+----------------+----------+-----------+------------------+----------+--------------------+-----------+------+-------+---------+---------+----------+----------------+----+---------------+------+------+--------------------+-----------+--------------------+--------------------+\n",
            "|         athlete|athlete_id|country_noc|           edition|edition_id|               event|isTeamSport| medal|    pos|result_id|    sport|athlete_id|            name| sex|           born|height|weight|             country|country_noc|         description|       special_notes|\n",
            "+----------------+----------+-----------+------------------+----------+--------------------+-----------+------+-------+---------+---------+----------+----------------+----+---------------+------+------+--------------------+-----------+--------------------+--------------------+\n",
            "|     GeorgeBlake|     64619|        ANZ|1908SummerOlympics|         5|     Lightweight,Men|      False|   nan|    DNS|    21247|   Boxing|     64619|     GeorgeBlake|Male| 4September1878| 167.0|    62|AustralasiaAustralia|        ANZ|GeorgeBlakewasarg...|                 nan|\n",
            "|     GeorgeBlake|     64619|        ANZ|1908SummerOlympics|         5|        Marathon,Men|      False|   nan|    DNF|    56369|Athletics|     64619|     GeorgeBlake|Male| 4September1878| 167.0|    62|AustralasiaAustralia|        ANZ|GeorgeBlakewasarg...|                 nan|\n",
            "|     GeorgeBlake|     64619|        ANZ|1908SummerOlympics|         5|          5miles,Men|      False|   nan| 3h1r12|    56360|Athletics|     64619|     GeorgeBlake|Male| 4September1878| 167.0|    62|AustralasiaAustralia|        ANZ|GeorgeBlakewasarg...|                 nan|\n",
            "|     GeorgeBlake|     64619|        ANZ|1908SummerOlympics|         5|     1,500metres,Men|      False|   nan|    DNS|    56349|Athletics|     64619|     GeorgeBlake|Male| 4September1878| 167.0|    62|AustralasiaAustralia|        ANZ|GeorgeBlakewasarg...|                 nan|\n",
            "|       HarryKerr|     64719|        ANZ|1908SummerOlympics|         5| 10milesRaceWalk,Men|      False|   nan| DNSr22|    56427|Athletics|     64719|       HarryKerr|Male|  28January1879| 184.0|    76|         Australasia|        ANZ|HarryKerrwasthefi...|                 nan|\n",
            "|       HarryKerr|     64719|        ANZ|1908SummerOlympics|         5|3,500metresRaceWa...|      False|Bronze|      3|    56421|Athletics|     64719|       HarryKerr|Male|  28January1879| 184.0|    76|         Australasia|        ANZ|HarryKerrwasthefi...|                 nan|\n",
            "| JosephStevenson|   1202180|        ANZ|1908SummerOlympics|         5|           Rugby,Men|       True|  Gold|      1|    31505|    Rugby|   1202180| JosephStevenson|Male|19September1883| 175.0|    75|         Australasia|        ANZ|JosephStevensonwa...|                 nan|\n",
            "|      ClaudeRoss|     64787|        ANZ|1912SummerOlympics|         6|       400metres,Men|      False|   nan|ACh1r13|    56585|Athletics|     64787|      ClaudeRoss|Male|      13May1893| 170.0|    67|         Australasia|        ANZ|ClaudeRosswasfrom...|ListedinOlympians...|\n",
            "|      ClaudeRoss|     64787|        ANZ|1912SummerOlympics|         6|       200metres,Men|      False|   nan|    DNS|    56557|Athletics|     64787|      ClaudeRoss|Male|      13May1893| 170.0|    67|         Australasia|        ANZ|ClaudeRosswasfrom...|ListedinOlympians...|\n",
            "|FrankBeaurepaire|     45155|        ANZ|1908SummerOlympics|         5|4200metresFreesty...|       True|   nan|      4|     4548| Swimming|     45155|FrankBeaurepaire|Male|      13May1891| 170.0|    65|AustralasiaAustralia|        ANZ|SirFrankBeaurepai...|BrotherofLilyBeau...|\n",
            "|FrankBeaurepaire|     45155|        ANZ|1908SummerOlympics|         5|1,500metresFreest...|      False|Bronze|      3|     4509| Swimming|     45155|FrankBeaurepaire|Male|      13May1891| 170.0|    65|AustralasiaAustralia|        ANZ|SirFrankBeaurepai...|BrotherofLilyBeau...|\n",
            "|FrankBeaurepaire|     45155|        ANZ|1908SummerOlympics|         5|400metresFreestyl...|      False|Silver|      2|     4494| Swimming|     45155|FrankBeaurepaire|Male|      13May1891| 170.0|    65|AustralasiaAustralia|        ANZ|SirFrankBeaurepai...|BrotherofLilyBeau...|\n",
            "|FrankBeaurepaire|     45155|        ANZ|1908SummerOlympics|         5|100metresFreestyl...|      False|   nan| 4h1r23|     4479| Swimming|     45155|FrankBeaurepaire|Male|      13May1891| 170.0|    65|AustralasiaAustralia|        ANZ|SirFrankBeaurepai...|BrotherofLilyBeau...|\n",
            "+----------------+----------+-----------+------------------+----------+--------------------+-----------+------+-------+---------+---------+----------+----------------+----+---------------+------+------+--------------------+-----------+--------------------+--------------------+\n",
            "\n"
          ]
        }
      ]
    },
    {
      "cell_type": "code",
      "source": [
        "# Вибір унікальних колонок, щоб уникнути амбігюїті\n",
        "selected_columns = [\n",
        "    kafka_df.athlete,\n",
        "    kafka_df.athlete_id,\n",
        "    kafka_df.country_noc,  # Вказуємо явно звідки беремо\n",
        "    kafka_df.edition,\n",
        "    kafka_df.edition_id,\n",
        "    kafka_df.event,\n",
        "    kafka_df.isTeamSport,\n",
        "    kafka_df.medal,\n",
        "    kafka_df.pos,\n",
        "    kafka_df.result_id,\n",
        "    kafka_df.sport,\n",
        "    filtered_bio_df.height,\n",
        "    filtered_bio_df.weight,\n",
        "    filtered_bio_df.country,\n",
        "    filtered_bio_df.sex\n",
        "]\n",
        "\n",
        "# Створюємо новий DataFrame з вибраними колонками\n",
        "joined_df = joined_df.select(*selected_columns)\n",
        "\n",
        "# Знаходимо середній зріст і вагу атлетів\n",
        "avg_height_weight_df = joined_df.groupBy(\n",
        "    'sport',\n",
        "    'medal',\n",
        "    'sex',\n",
        "    'country_noc'\n",
        ").agg(\n",
        "    avg(\"height\").alias(\"average_height\"),\n",
        "    avg(\"weight\").alias(\"average_weight\"),\n",
        "    current_timestamp().alias(\"calculation_timestamp\")\n",
        ")\n",
        "\n",
        "avg_height_weight_df.show()"
      ],
      "metadata": {
        "colab": {
          "base_uri": "https://localhost:8080/"
        },
        "id": "tPH1xSUE1E5j",
        "outputId": "2a082ce2-a06c-4bea-cdef-dcde5afb4017"
      },
      "execution_count": 18,
      "outputs": [
        {
          "output_type": "stream",
          "name": "stdout",
          "text": [
            "+---------+------+----+-----------+------------------+--------------+---------------------+\n",
            "|    sport| medal| sex|country_noc|    average_height|average_weight|calculation_timestamp|\n",
            "+---------+------+----+-----------+------------------+--------------+---------------------+\n",
            "| Swimming|   nan|Male|        ANZ|             170.0|          65.0| 2025-04-11 15:06:...|\n",
            "| Swimming|Silver|Male|        ANZ|             170.0|          65.0| 2025-04-11 15:06:...|\n",
            "|Athletics|Bronze|Male|        ANZ|             184.0|          76.0| 2025-04-11 15:06:...|\n",
            "| Swimming|Bronze|Male|        ANZ|             170.0|          65.0| 2025-04-11 15:06:...|\n",
            "|    Rugby|  Gold|Male|        ANZ|             175.0|          75.0| 2025-04-11 15:06:...|\n",
            "|Athletics|   nan|Male|        ANZ|170.83333333333334|          66.0| 2025-04-11 15:06:...|\n",
            "|   Boxing|   nan|Male|        ANZ|             167.0|          62.0| 2025-04-11 15:06:...|\n",
            "+---------+------+----+-----------+------------------+--------------+---------------------+\n",
            "\n"
          ]
        }
      ]
    },
    {
      "cell_type": "code",
      "source": [
        "def send_to_kafka(batch_df, batch_id):\n",
        "    # Проходимо по рядках DataFrame за допомогою iterrows для уникнення collect()\n",
        "    for row in batch_df.toLocalIterator():  # Використовуємо toLocalIterator для ітерації\n",
        "        # Використовуємо row.asDict(), щоб перетворити рядок у словник\n",
        "        producer.send(\"output_topic\", value=row.asDict())\n",
        "    producer.flush()\n",
        "\n",
        "def write_to_database(batch_df, batch_id):\n",
        "    if not batch_df.isEmpty():\n",
        "        batch_df.write.format('jdbc').options(\n",
        "            url=jdbc_url,\n",
        "            driver='com.mysql.cj.jdbc.Driver',\n",
        "            dbtable='average_height_weight',\n",
        "            user=jdbc_user,\n",
        "            password=jdbc_password\n",
        "        ).mode('append').save()\n",
        "\n",
        "# Використовуємо forEachBatch для стріму\n",
        "avg_height_weight_df.writeStream \\\n",
        "    .foreachBatch(lambda df, batch_id: send_to_kafka(df, batch_id)) \\\n",
        "    .foreachBatch(lambda df, batch_id: write_to_database(df, batch_id)) \\\n",
        "    .outputMode(\"update\") \\\n",
        "    .start() \\\n",
        "    .awaitTermination()"
      ],
      "metadata": {
        "colab": {
          "base_uri": "https://localhost:8080/",
          "height": 365
        },
        "id": "jgmdRMpL1FXx",
        "outputId": "c92a5e5e-e75f-433a-af4c-c31365bd8ecd"
      },
      "execution_count": 19,
      "outputs": [
        {
          "output_type": "error",
          "ename": "AnalysisException",
          "evalue": "[WRITE_STREAM_NOT_ALLOWED] `writeStream` can be called only on streaming Dataset/DataFrame.",
          "traceback": [
            "\u001b[0;31m---------------------------------------------------------------------------\u001b[0m",
            "\u001b[0;31mAnalysisException\u001b[0m                         Traceback (most recent call last)",
            "\u001b[0;32m<ipython-input-19-bd85c56f104c>\u001b[0m in \u001b[0;36m<cell line: 0>\u001b[0;34m()\u001b[0m\n\u001b[1;32m     17\u001b[0m \u001b[0;34m\u001b[0m\u001b[0m\n\u001b[1;32m     18\u001b[0m \u001b[0;31m# Використовуємо forEachBatch для стріму\u001b[0m\u001b[0;34m\u001b[0m\u001b[0;34m\u001b[0m\u001b[0m\n\u001b[0;32m---> 19\u001b[0;31m \u001b[0mavg_height_weight_df\u001b[0m\u001b[0;34m.\u001b[0m\u001b[0mwriteStream\u001b[0m\u001b[0;31m \u001b[0m\u001b[0;31m\\\u001b[0m\u001b[0;34m\u001b[0m\u001b[0;34m\u001b[0m\u001b[0m\n\u001b[0m\u001b[1;32m     20\u001b[0m     \u001b[0;34m.\u001b[0m\u001b[0mforeachBatch\u001b[0m\u001b[0;34m(\u001b[0m\u001b[0;32mlambda\u001b[0m \u001b[0mdf\u001b[0m\u001b[0;34m,\u001b[0m \u001b[0mbatch_id\u001b[0m\u001b[0;34m:\u001b[0m \u001b[0msend_to_kafka\u001b[0m\u001b[0;34m(\u001b[0m\u001b[0mdf\u001b[0m\u001b[0;34m,\u001b[0m \u001b[0mbatch_id\u001b[0m\u001b[0;34m)\u001b[0m\u001b[0;34m)\u001b[0m\u001b[0;31m \u001b[0m\u001b[0;31m\\\u001b[0m\u001b[0;34m\u001b[0m\u001b[0;34m\u001b[0m\u001b[0m\n\u001b[1;32m     21\u001b[0m     \u001b[0;34m.\u001b[0m\u001b[0mforeachBatch\u001b[0m\u001b[0;34m(\u001b[0m\u001b[0;32mlambda\u001b[0m \u001b[0mdf\u001b[0m\u001b[0;34m,\u001b[0m \u001b[0mbatch_id\u001b[0m\u001b[0;34m:\u001b[0m \u001b[0mwrite_to_database\u001b[0m\u001b[0;34m(\u001b[0m\u001b[0mdf\u001b[0m\u001b[0;34m,\u001b[0m \u001b[0mbatch_id\u001b[0m\u001b[0;34m)\u001b[0m\u001b[0;34m)\u001b[0m\u001b[0;31m \u001b[0m\u001b[0;31m\\\u001b[0m\u001b[0;34m\u001b[0m\u001b[0;34m\u001b[0m\u001b[0m\n",
            "\u001b[0;32m/usr/local/lib/python3.11/dist-packages/pyspark/sql/dataframe.py\u001b[0m in \u001b[0;36mwriteStream\u001b[0;34m(self)\u001b[0m\n\u001b[1;32m    543\u001b[0m         \u001b[0;34m...\u001b[0m     \u001b[0mquery\u001b[0m\u001b[0;34m.\u001b[0m\u001b[0mstop\u001b[0m\u001b[0;34m(\u001b[0m\u001b[0;34m)\u001b[0m\u001b[0;34m\u001b[0m\u001b[0;34m\u001b[0m\u001b[0m\n\u001b[1;32m    544\u001b[0m         \"\"\"\n\u001b[0;32m--> 545\u001b[0;31m         \u001b[0;32mreturn\u001b[0m \u001b[0mDataStreamWriter\u001b[0m\u001b[0;34m(\u001b[0m\u001b[0mself\u001b[0m\u001b[0;34m)\u001b[0m\u001b[0;34m\u001b[0m\u001b[0;34m\u001b[0m\u001b[0m\n\u001b[0m\u001b[1;32m    546\u001b[0m \u001b[0;34m\u001b[0m\u001b[0m\n\u001b[1;32m    547\u001b[0m     \u001b[0;34m@\u001b[0m\u001b[0mproperty\u001b[0m\u001b[0;34m\u001b[0m\u001b[0;34m\u001b[0m\u001b[0m\n",
            "\u001b[0;32m/usr/local/lib/python3.11/dist-packages/pyspark/sql/streaming/readwriter.py\u001b[0m in \u001b[0;36m__init__\u001b[0;34m(self, df)\u001b[0m\n\u001b[1;32m    803\u001b[0m         \u001b[0mself\u001b[0m\u001b[0;34m.\u001b[0m\u001b[0m_df\u001b[0m \u001b[0;34m=\u001b[0m \u001b[0mdf\u001b[0m\u001b[0;34m\u001b[0m\u001b[0;34m\u001b[0m\u001b[0m\n\u001b[1;32m    804\u001b[0m         \u001b[0mself\u001b[0m\u001b[0;34m.\u001b[0m\u001b[0m_spark\u001b[0m \u001b[0;34m=\u001b[0m \u001b[0mdf\u001b[0m\u001b[0;34m.\u001b[0m\u001b[0msparkSession\u001b[0m\u001b[0;34m\u001b[0m\u001b[0;34m\u001b[0m\u001b[0m\n\u001b[0;32m--> 805\u001b[0;31m         \u001b[0mself\u001b[0m\u001b[0;34m.\u001b[0m\u001b[0m_jwrite\u001b[0m \u001b[0;34m=\u001b[0m \u001b[0mdf\u001b[0m\u001b[0;34m.\u001b[0m\u001b[0m_jdf\u001b[0m\u001b[0;34m.\u001b[0m\u001b[0mwriteStream\u001b[0m\u001b[0;34m(\u001b[0m\u001b[0;34m)\u001b[0m\u001b[0;34m\u001b[0m\u001b[0;34m\u001b[0m\u001b[0m\n\u001b[0m\u001b[1;32m    806\u001b[0m \u001b[0;34m\u001b[0m\u001b[0m\n\u001b[1;32m    807\u001b[0m     \u001b[0;32mdef\u001b[0m \u001b[0m_sq\u001b[0m\u001b[0;34m(\u001b[0m\u001b[0mself\u001b[0m\u001b[0;34m,\u001b[0m \u001b[0mjsq\u001b[0m\u001b[0;34m:\u001b[0m \u001b[0mJavaObject\u001b[0m\u001b[0;34m)\u001b[0m \u001b[0;34m->\u001b[0m \u001b[0mStreamingQuery\u001b[0m\u001b[0;34m:\u001b[0m\u001b[0;34m\u001b[0m\u001b[0;34m\u001b[0m\u001b[0m\n",
            "\u001b[0;32m/usr/local/lib/python3.11/dist-packages/py4j/java_gateway.py\u001b[0m in \u001b[0;36m__call__\u001b[0;34m(self, *args)\u001b[0m\n\u001b[1;32m   1320\u001b[0m \u001b[0;34m\u001b[0m\u001b[0m\n\u001b[1;32m   1321\u001b[0m         \u001b[0manswer\u001b[0m \u001b[0;34m=\u001b[0m \u001b[0mself\u001b[0m\u001b[0;34m.\u001b[0m\u001b[0mgateway_client\u001b[0m\u001b[0;34m.\u001b[0m\u001b[0msend_command\u001b[0m\u001b[0;34m(\u001b[0m\u001b[0mcommand\u001b[0m\u001b[0;34m)\u001b[0m\u001b[0;34m\u001b[0m\u001b[0;34m\u001b[0m\u001b[0m\n\u001b[0;32m-> 1322\u001b[0;31m         return_value = get_return_value(\n\u001b[0m\u001b[1;32m   1323\u001b[0m             answer, self.gateway_client, self.target_id, self.name)\n\u001b[1;32m   1324\u001b[0m \u001b[0;34m\u001b[0m\u001b[0m\n",
            "\u001b[0;32m/usr/local/lib/python3.11/dist-packages/pyspark/errors/exceptions/captured.py\u001b[0m in \u001b[0;36mdeco\u001b[0;34m(*a, **kw)\u001b[0m\n\u001b[1;32m    183\u001b[0m                 \u001b[0;31m# Hide where the exception came from that shows a non-Pythonic\u001b[0m\u001b[0;34m\u001b[0m\u001b[0;34m\u001b[0m\u001b[0m\n\u001b[1;32m    184\u001b[0m                 \u001b[0;31m# JVM exception message.\u001b[0m\u001b[0;34m\u001b[0m\u001b[0;34m\u001b[0m\u001b[0m\n\u001b[0;32m--> 185\u001b[0;31m                 \u001b[0;32mraise\u001b[0m \u001b[0mconverted\u001b[0m \u001b[0;32mfrom\u001b[0m \u001b[0;32mNone\u001b[0m\u001b[0;34m\u001b[0m\u001b[0;34m\u001b[0m\u001b[0m\n\u001b[0m\u001b[1;32m    186\u001b[0m             \u001b[0;32melse\u001b[0m\u001b[0;34m:\u001b[0m\u001b[0;34m\u001b[0m\u001b[0;34m\u001b[0m\u001b[0m\n\u001b[1;32m    187\u001b[0m                 \u001b[0;32mraise\u001b[0m\u001b[0;34m\u001b[0m\u001b[0;34m\u001b[0m\u001b[0m\n",
            "\u001b[0;31mAnalysisException\u001b[0m: [WRITE_STREAM_NOT_ALLOWED] `writeStream` can be called only on streaming Dataset/DataFrame."
          ]
        }
      ]
    }
  ],
  "metadata": {
    "colab": {
      "provenance": []
    },
    "kernelspec": {
      "display_name": "Python 3",
      "name": "python3"
    },
    "language_info": {
      "name": "python"
    }
  },
  "nbformat": 4,
  "nbformat_minor": 0
}